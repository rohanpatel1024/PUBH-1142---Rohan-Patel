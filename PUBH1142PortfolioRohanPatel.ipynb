{
 "cells": [
  {
   "cell_type": "markdown",
   "metadata": {},
   "source": [
    "# Health Data Science Portfoilio - Lung Cancer Data"
   ]
  },
  {
   "cell_type": "markdown",
   "metadata": {},
   "source": [
    "### Rohan Patel \n",
    "### PUBH 1142\n",
    "### Professsor Klopper"
   ]
  },
  {
   "cell_type": "markdown",
   "metadata": {},
   "source": [
    "## <span style=\"color:Purple\">Introduction"
   ]
  },
  {
   "cell_type": "code",
   "execution_count": 189,
   "metadata": {},
   "outputs": [],
   "source": [
    "# Import necessary libraries\n",
    "import pandas as pd\n",
    "import numpy as np\n",
    "import seaborn\n",
    "from matplotlib import pyplot\n",
    "import matplotlib.pyplot as plt\n",
    "import seaborn as sns\n"
   ]
  },
  {
   "cell_type": "markdown",
   "metadata": {},
   "source": [
    "#### To start I will be importing the data into this notebook. For my final project, I had decided to pick a data set which shows the lung cancer rates and the reason why I chose this specific is because I wanted to see the correlation between city, cases, and age. The data set which I have selected came from Professor Klopper's tutorials repository where I had found the data. \n"
   ]
  },
  {
   "cell_type": "markdown",
   "metadata": {},
   "source": [
    "## <span style=\"color:purple\">Data import and printing"
   ]
  },
  {
   "cell_type": "code",
   "execution_count": 190,
   "metadata": {},
   "outputs": [],
   "source": [
    "# Import the data into a pandas DataFrame\n",
    "df=pd.read_csv('https://raw.githubusercontent.com/juanklopper/TutorialData/main/lung_cancer_data.csv')"
   ]
  },
  {
   "cell_type": "code",
   "execution_count": 191,
   "metadata": {},
   "outputs": [
    {
     "data": {
      "text/plain": [
       "pandas.core.frame.DataFrame"
      ]
     },
     "execution_count": 191,
     "metadata": {},
     "output_type": "execute_result"
    }
   ],
   "source": [
    "type(df)\n"
   ]
  },
  {
   "cell_type": "code",
   "execution_count": 192,
   "metadata": {},
   "outputs": [
    {
     "data": {
      "text/html": [
       "<div>\n",
       "<style scoped>\n",
       "    .dataframe tbody tr th:only-of-type {\n",
       "        vertical-align: middle;\n",
       "    }\n",
       "\n",
       "    .dataframe tbody tr th {\n",
       "        vertical-align: top;\n",
       "    }\n",
       "\n",
       "    .dataframe thead th {\n",
       "        text-align: right;\n",
       "    }\n",
       "</style>\n",
       "<table border=\"1\" class=\"dataframe\">\n",
       "  <thead>\n",
       "    <tr style=\"text-align: right;\">\n",
       "      <th></th>\n",
       "      <th>age</th>\n",
       "      <th>age_midpt</th>\n",
       "      <th>city</th>\n",
       "      <th>cases</th>\n",
       "      <th>population</th>\n",
       "    </tr>\n",
       "  </thead>\n",
       "  <tbody>\n",
       "    <tr>\n",
       "      <th>0</th>\n",
       "      <td>40-54</td>\n",
       "      <td>47</td>\n",
       "      <td>Fredericia</td>\n",
       "      <td>11</td>\n",
       "      <td>3059</td>\n",
       "    </tr>\n",
       "    <tr>\n",
       "      <th>1</th>\n",
       "      <td>55-59</td>\n",
       "      <td>57</td>\n",
       "      <td>Fredericia</td>\n",
       "      <td>11</td>\n",
       "      <td>800</td>\n",
       "    </tr>\n",
       "    <tr>\n",
       "      <th>2</th>\n",
       "      <td>60-64</td>\n",
       "      <td>62</td>\n",
       "      <td>Fredericia</td>\n",
       "      <td>11</td>\n",
       "      <td>710</td>\n",
       "    </tr>\n",
       "    <tr>\n",
       "      <th>3</th>\n",
       "      <td>65-69</td>\n",
       "      <td>67</td>\n",
       "      <td>Fredericia</td>\n",
       "      <td>10</td>\n",
       "      <td>581</td>\n",
       "    </tr>\n",
       "    <tr>\n",
       "      <th>4</th>\n",
       "      <td>70-74</td>\n",
       "      <td>72</td>\n",
       "      <td>Fredericia</td>\n",
       "      <td>11</td>\n",
       "      <td>509</td>\n",
       "    </tr>\n",
       "    <tr>\n",
       "      <th>5</th>\n",
       "      <td>75&lt;=</td>\n",
       "      <td>75</td>\n",
       "      <td>Fredericia</td>\n",
       "      <td>10</td>\n",
       "      <td>605</td>\n",
       "    </tr>\n",
       "    <tr>\n",
       "      <th>6</th>\n",
       "      <td>40-54</td>\n",
       "      <td>47</td>\n",
       "      <td>Horsens</td>\n",
       "      <td>13</td>\n",
       "      <td>2879</td>\n",
       "    </tr>\n",
       "    <tr>\n",
       "      <th>7</th>\n",
       "      <td>55-59</td>\n",
       "      <td>57</td>\n",
       "      <td>Horsens</td>\n",
       "      <td>6</td>\n",
       "      <td>1083</td>\n",
       "    </tr>\n",
       "    <tr>\n",
       "      <th>8</th>\n",
       "      <td>60-64</td>\n",
       "      <td>62</td>\n",
       "      <td>Horsens</td>\n",
       "      <td>15</td>\n",
       "      <td>923</td>\n",
       "    </tr>\n",
       "    <tr>\n",
       "      <th>9</th>\n",
       "      <td>65-69</td>\n",
       "      <td>67</td>\n",
       "      <td>Horsens</td>\n",
       "      <td>10</td>\n",
       "      <td>834</td>\n",
       "    </tr>\n",
       "    <tr>\n",
       "      <th>10</th>\n",
       "      <td>70-74</td>\n",
       "      <td>72</td>\n",
       "      <td>Horsens</td>\n",
       "      <td>12</td>\n",
       "      <td>634</td>\n",
       "    </tr>\n",
       "    <tr>\n",
       "      <th>11</th>\n",
       "      <td>75&lt;=</td>\n",
       "      <td>75</td>\n",
       "      <td>Horsens</td>\n",
       "      <td>2</td>\n",
       "      <td>782</td>\n",
       "    </tr>\n",
       "    <tr>\n",
       "      <th>12</th>\n",
       "      <td>40-54</td>\n",
       "      <td>47</td>\n",
       "      <td>Kolding</td>\n",
       "      <td>4</td>\n",
       "      <td>3142</td>\n",
       "    </tr>\n",
       "    <tr>\n",
       "      <th>13</th>\n",
       "      <td>55-59</td>\n",
       "      <td>57</td>\n",
       "      <td>Kolding</td>\n",
       "      <td>8</td>\n",
       "      <td>1050</td>\n",
       "    </tr>\n",
       "    <tr>\n",
       "      <th>14</th>\n",
       "      <td>60-64</td>\n",
       "      <td>62</td>\n",
       "      <td>Kolding</td>\n",
       "      <td>7</td>\n",
       "      <td>895</td>\n",
       "    </tr>\n",
       "    <tr>\n",
       "      <th>15</th>\n",
       "      <td>65-69</td>\n",
       "      <td>67</td>\n",
       "      <td>Kolding</td>\n",
       "      <td>11</td>\n",
       "      <td>702</td>\n",
       "    </tr>\n",
       "    <tr>\n",
       "      <th>16</th>\n",
       "      <td>70-74</td>\n",
       "      <td>72</td>\n",
       "      <td>Kolding</td>\n",
       "      <td>9</td>\n",
       "      <td>535</td>\n",
       "    </tr>\n",
       "    <tr>\n",
       "      <th>17</th>\n",
       "      <td>75&lt;=</td>\n",
       "      <td>75</td>\n",
       "      <td>Kolding</td>\n",
       "      <td>12</td>\n",
       "      <td>659</td>\n",
       "    </tr>\n",
       "    <tr>\n",
       "      <th>18</th>\n",
       "      <td>40-54</td>\n",
       "      <td>47</td>\n",
       "      <td>Vejle</td>\n",
       "      <td>5</td>\n",
       "      <td>2520</td>\n",
       "    </tr>\n",
       "    <tr>\n",
       "      <th>19</th>\n",
       "      <td>55-59</td>\n",
       "      <td>57</td>\n",
       "      <td>Vejle</td>\n",
       "      <td>7</td>\n",
       "      <td>878</td>\n",
       "    </tr>\n",
       "    <tr>\n",
       "      <th>20</th>\n",
       "      <td>60-64</td>\n",
       "      <td>62</td>\n",
       "      <td>Vejle</td>\n",
       "      <td>10</td>\n",
       "      <td>839</td>\n",
       "    </tr>\n",
       "    <tr>\n",
       "      <th>21</th>\n",
       "      <td>65-69</td>\n",
       "      <td>67</td>\n",
       "      <td>Vejle</td>\n",
       "      <td>14</td>\n",
       "      <td>631</td>\n",
       "    </tr>\n",
       "    <tr>\n",
       "      <th>22</th>\n",
       "      <td>70-74</td>\n",
       "      <td>72</td>\n",
       "      <td>Vejle</td>\n",
       "      <td>8</td>\n",
       "      <td>539</td>\n",
       "    </tr>\n",
       "    <tr>\n",
       "      <th>23</th>\n",
       "      <td>75&lt;=</td>\n",
       "      <td>75</td>\n",
       "      <td>Vejle</td>\n",
       "      <td>7</td>\n",
       "      <td>619</td>\n",
       "    </tr>\n",
       "  </tbody>\n",
       "</table>\n",
       "</div>"
      ],
      "text/plain": [
       "      age  age_midpt        city  cases  population\n",
       "0   40-54         47  Fredericia     11        3059\n",
       "1   55-59         57  Fredericia     11         800\n",
       "2   60-64         62  Fredericia     11         710\n",
       "3   65-69         67  Fredericia     10         581\n",
       "4   70-74         72  Fredericia     11         509\n",
       "5    75<=         75  Fredericia     10         605\n",
       "6   40-54         47     Horsens     13        2879\n",
       "7   55-59         57     Horsens      6        1083\n",
       "8   60-64         62     Horsens     15         923\n",
       "9   65-69         67     Horsens     10         834\n",
       "10  70-74         72     Horsens     12         634\n",
       "11   75<=         75     Horsens      2         782\n",
       "12  40-54         47     Kolding      4        3142\n",
       "13  55-59         57     Kolding      8        1050\n",
       "14  60-64         62     Kolding      7         895\n",
       "15  65-69         67     Kolding     11         702\n",
       "16  70-74         72     Kolding      9         535\n",
       "17   75<=         75     Kolding     12         659\n",
       "18  40-54         47       Vejle      5        2520\n",
       "19  55-59         57       Vejle      7         878\n",
       "20  60-64         62       Vejle     10         839\n",
       "21  65-69         67       Vejle     14         631\n",
       "22  70-74         72       Vejle      8         539\n",
       "23   75<=         75       Vejle      7         619"
      ]
     },
     "execution_count": 192,
     "metadata": {},
     "output_type": "execute_result"
    }
   ],
   "source": [
    "# Printing the data frame\n",
    "df"
   ]
  },
  {
   "cell_type": "code",
   "execution_count": 193,
   "metadata": {},
   "outputs": [
    {
     "data": {
      "text/plain": [
       "Index(['age', 'age_midpt', 'city', 'cases', 'population'], dtype='object')"
      ]
     },
     "execution_count": 193,
     "metadata": {},
     "output_type": "execute_result"
    }
   ],
   "source": [
    "# Identify the columns in the data frame as a way to seperate categorical variables\n",
    "df.columns"
   ]
  },
  {
   "cell_type": "code",
   "execution_count": 194,
   "metadata": {},
   "outputs": [
    {
     "data": {
      "text/html": [
       "<div>\n",
       "<style scoped>\n",
       "    .dataframe tbody tr th:only-of-type {\n",
       "        vertical-align: middle;\n",
       "    }\n",
       "\n",
       "    .dataframe tbody tr th {\n",
       "        vertical-align: top;\n",
       "    }\n",
       "\n",
       "    .dataframe thead th {\n",
       "        text-align: right;\n",
       "    }\n",
       "</style>\n",
       "<table border=\"1\" class=\"dataframe\">\n",
       "  <thead>\n",
       "    <tr style=\"text-align: right;\">\n",
       "      <th></th>\n",
       "      <th>age</th>\n",
       "      <th>age_midpt</th>\n",
       "      <th>city</th>\n",
       "      <th>cases</th>\n",
       "      <th>population</th>\n",
       "    </tr>\n",
       "  </thead>\n",
       "  <tbody>\n",
       "    <tr>\n",
       "      <th>0</th>\n",
       "      <td>40-54</td>\n",
       "      <td>47</td>\n",
       "      <td>Fredericia</td>\n",
       "      <td>11</td>\n",
       "      <td>3059</td>\n",
       "    </tr>\n",
       "    <tr>\n",
       "      <th>1</th>\n",
       "      <td>55-59</td>\n",
       "      <td>57</td>\n",
       "      <td>Fredericia</td>\n",
       "      <td>11</td>\n",
       "      <td>800</td>\n",
       "    </tr>\n",
       "    <tr>\n",
       "      <th>2</th>\n",
       "      <td>60-64</td>\n",
       "      <td>62</td>\n",
       "      <td>Fredericia</td>\n",
       "      <td>11</td>\n",
       "      <td>710</td>\n",
       "    </tr>\n",
       "    <tr>\n",
       "      <th>3</th>\n",
       "      <td>65-69</td>\n",
       "      <td>67</td>\n",
       "      <td>Fredericia</td>\n",
       "      <td>10</td>\n",
       "      <td>581</td>\n",
       "    </tr>\n",
       "    <tr>\n",
       "      <th>4</th>\n",
       "      <td>70-74</td>\n",
       "      <td>72</td>\n",
       "      <td>Fredericia</td>\n",
       "      <td>11</td>\n",
       "      <td>509</td>\n",
       "    </tr>\n",
       "  </tbody>\n",
       "</table>\n",
       "</div>"
      ],
      "text/plain": [
       "     age  age_midpt        city  cases  population\n",
       "0  40-54         47  Fredericia     11        3059\n",
       "1  55-59         57  Fredericia     11         800\n",
       "2  60-64         62  Fredericia     11         710\n",
       "3  65-69         67  Fredericia     10         581\n",
       "4  70-74         72  Fredericia     11         509"
      ]
     },
     "execution_count": 194,
     "metadata": {},
     "output_type": "execute_result"
    }
   ],
   "source": [
    "df.head()"
   ]
  },
  {
   "cell_type": "markdown",
   "metadata": {},
   "source": [
    "#### Now we are able to see the full data that was imported from github. This shows us all the cases of lung cancer across different cities in Denmark. Each data point shows us the amount of cases based on age, the age midpoint, city, cases, and population. What I want to do in this case is understand the different rates of lung cancer across different cities in Denmark while taking age into account. I will next seperate and group the data based on city. I will also find the summarry statistics when comparing city and cases as well as age and number of cases."
   ]
  },
  {
   "cell_type": "markdown",
   "metadata": {},
   "source": [
    "## <span style=\"color:purple\">Grouping and Summary Statistics"
   ]
  },
  {
   "cell_type": "code",
   "execution_count": 195,
   "metadata": {},
   "outputs": [],
   "source": [
    "grouped = df.groupby('city')"
   ]
  },
  {
   "cell_type": "code",
   "execution_count": 196,
   "metadata": {},
   "outputs": [
    {
     "name": "stdout",
     "output_type": "stream",
     "text": [
      "<pandas.core.groupby.generic.DataFrameGroupBy object at 0x11509a810>\n"
     ]
    }
   ],
   "source": [
    "print(grouped)"
   ]
  },
  {
   "cell_type": "code",
   "execution_count": 197,
   "metadata": {},
   "outputs": [],
   "source": [
    "mean_values = grouped.mean('cases')\n"
   ]
  },
  {
   "cell_type": "code",
   "execution_count": 198,
   "metadata": {},
   "outputs": [
    {
     "name": "stdout",
     "output_type": "stream",
     "text": [
      "            age_midpt      cases   population\n",
      "city                                         \n",
      "Fredericia  63.333333  10.666667  1044.000000\n",
      "Horsens     63.333333   9.666667  1189.166667\n",
      "Kolding     63.333333   8.500000  1163.833333\n",
      "Vejle       63.333333   8.500000  1004.333333\n"
     ]
    }
   ],
   "source": [
    "print(mean_values)"
   ]
  },
  {
   "cell_type": "code",
   "execution_count": 199,
   "metadata": {},
   "outputs": [
    {
     "name": "stdout",
     "output_type": "stream",
     "text": [
      "            count       mean       std   min    25%   50%    75%   max\n",
      "city                                                                  \n",
      "Fredericia    6.0  10.666667  0.516398  10.0  10.25  11.0  11.00  11.0\n",
      "Horsens       6.0   9.666667  4.844241   2.0   7.00  11.0  12.75  15.0\n",
      "Kolding       6.0   8.500000  2.880972   4.0   7.25   8.5  10.50  12.0\n",
      "Vejle         6.0   8.500000  3.146427   5.0   7.00   7.5   9.50  14.0\n"
     ]
    }
   ],
   "source": [
    "# Calculate the mean of the cases for each city\n",
    "grouped = df.groupby('city')['cases']\n",
    "summary_statistics = grouped.describe()\n",
    "print(summary_statistics)"
   ]
  },
  {
   "cell_type": "code",
   "execution_count": 200,
   "metadata": {},
   "outputs": [
    {
     "name": "stdout",
     "output_type": "stream",
     "text": [
      "       count   mean       std   min    25%   50%    75%   max\n",
      "age                                                          \n",
      "40-54    4.0   8.25  4.425306   4.0   4.75   8.0  11.50  13.0\n",
      "55-59    4.0   8.00  2.160247   6.0   6.75   7.5   8.75  11.0\n",
      "60-64    4.0  10.75  3.304038   7.0   9.25  10.5  12.00  15.0\n",
      "65-69    4.0  11.25  1.892969  10.0  10.00  10.5  11.75  14.0\n",
      "70-74    4.0  10.00  1.825742   8.0   8.75  10.0  11.25  12.0\n",
      "75<=     4.0   7.75  4.349329   2.0   5.75   8.5  10.50  12.0\n"
     ]
    }
   ],
   "source": [
    "# Calculate the mean of the cases column for each age group\n",
    "grouped = df.groupby('age')['cases']\n",
    "summary_statistics = grouped.describe()\n",
    "print(summary_statistics)"
   ]
  },
  {
   "cell_type": "markdown",
   "metadata": {},
   "source": [
    "#### Based on the grouping, we can see that Federicia has the highest overall mean of cases. However, when taking age into consideration, it is interesting to see that there were the highest mean number of cases in the 65-69 age group. The standard deviation also varied heavily based on the different city and age group. It was intersting to note that the 70-74 age range had the lowest standard deviation as well as having the smallest range. Compared to the 40-54 age group, the range was the second highest while noting that they had the highest standard deviation. When looking at the data based on city, it was interesting to see that Fredericia had the highest mean amount of cases and the lowest standard deviation. However, Kolding had the lowest stansard deviation and had the lowest mean. SInce this data has a lot of variables to take into account, I want to create a scatterplot to show that the lung cancer cases by city and age."
   ]
  },
  {
   "cell_type": "markdown",
   "metadata": {},
   "source": [
    "## <span style=\"color:purple\">Scatterplot Analysis"
   ]
  },
  {
   "cell_type": "code",
   "execution_count": 201,
   "metadata": {},
   "outputs": [
    {
     "data": {
      "image/png": "[encoded data removed]",
      "text/plain": [
       "<Figure size 1000x600 with 1 Axes>"
      ]
     },
     "metadata": {},
     "output_type": "display_data"
    }
   ],
   "source": [
    "# Creating the scatterplot of lung cancer cases by age while taking city into account\n",
    "plt.figure(figsize=(10, 6))\n",
    "sns.scatterplot(x='age', y='cases', hue='city', data=df)\n",
    "plt.title('Lung Cancer Cases by City and Age')\n",
    "plt.xlabel('Age')\n",
    "plt.ylabel('Cases')\n",
    "plt.show()"
   ]
  },
  {
   "cell_type": "markdown",
   "metadata": {},
   "source": [
    "###### <span style=\"color:yellow\">Note - Fredericia has 10 cases in age group 65-69"
   ]
  },
  {
   "cell_type": "markdown",
   "metadata": {},
   "source": [
    "#### Based on the scatterplot, we can see the trends in a visual manner. When analyzing this scatterplot, it is clear to tell that overall, cases in the age groups 40-54 and 75<= varied heavily. It wass interesting as the cases in the 40-54 were the highest in Horsens with 13 cases and the lowest in Kolding with 4 cases. However, in the 75<= age group, the cases were highest in Kolding with 12 but lowest in Horsense with 2. It is also clear to see that Fredericia had the highest mean as cases were always between 10-12 no mattter the age group showing little variance. In this sense, there was a lot of difference in the number of cases depending on age and city. Overall, the plot does show the same trends that the data chart displays. "
   ]
  },
  {
   "cell_type": "markdown",
   "metadata": {},
   "source": [
    "## <span style=\"color:purple\">Conclusion"
   ]
  },
  {
   "cell_type": "markdown",
   "metadata": {},
   "source": [
    "#### Overall, the data provided a good analysis for me to figure out the connection between age, city, and lung cancer cases in Denmark. The summarry statistics displayed an outline that each city showed different amount of cases depending on age group. I believe however, that more data does need to be collected in order to uderstand the different rates of lung cancer in each city. Why is it that the lung cancer cases in Fredericia are consistent and not different by age when compared to the rest of the other cities? There are definitely more factors involved in order to get a full understanding of the lung cancer data. A further study could look at the health conditions within each town and ananlyze the cases of lung cancer individually rather then collecting data points."
   ]
  }
 ],
 "metadata": {
  "kernelspec": {
   "display_name": "base",
   "language": "python",
   "name": "python3"
  },
  "language_info": {
   "codemirror_mode": {
    "name": "ipython",
    "version": 3
   },
   "file_extension": ".py",
   "mimetype": "text/x-python",
   "name": "python",
   "nbconvert_exporter": "python",
   "pygments_lexer": "ipython3",
   "version": "3.11.8"
  }
 },
 "nbformat": 4,
 "nbformat_minor": 2
}
